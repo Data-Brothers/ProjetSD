{
 "cells": [
  {
   "cell_type": "code",
   "execution_count": 1,
   "metadata": {},
   "outputs": [],
   "source": [
    "from sklearn.feature_extraction.text import TfidfVectorizer,CountVectorizer\n",
    "from sklearn.linear_model import SGDClassifier\n",
    "from sklearn.preprocessing import LabelEncoder\n",
    "from sklearn.model_selection import GridSearchCV\n",
    "from sklearn.model_selection import cross_val_score \n",
    "from sklearn.ensemble import RandomForestClassifier\n",
    "from sklearn.pipeline import Pipeline\n",
    "import dask.array as da\n",
    "import dask.dataframe as dd\n",
    "import pandas as pd\n",
    "import numpy as np\n",
    "import os\n",
    "dirname='./data'"
   ]
  },
  {
   "cell_type": "code",
   "execution_count": 2,
   "metadata": {},
   "outputs": [],
   "source": [
    "# Importation des `noms de métiers`\n",
    "# Création du dico des `noms de métiers`\n",
    "jobNames = pd.read_csv(os.path.join(dirname,'categories_string.csv'))['0'].to_dict()\n",
    "\n",
    "# Importation du jeu de données d'entrainement\n",
    "trainX=dd.read_json(os.path.join(dirname,'train.json'),lines=False).set_index('Id',n_partitions=10).categorize(columns=['gender'])\n",
    "\n",
    "trainTarget=dd.read_csv(os.path.join(dirname, 'train_label.csv')).set_index('Id').categorize(columns=['Category'])\n",
    "\n",
    "# Concatenation en un seul DataFrame pour visualiser\n",
    "trainDF= trainX.assign(Category = trainTarget.Category)\n",
    "\n",
    "#trainDF['description']=trainDF.apply(lambda x:prepareTxt(x['description']),axis=1,meta=(None, 'object'))"
   ]
  },
  {
   "cell_type": "code",
   "execution_count": 3,
   "metadata": {
    "collapsed": true
   },
   "outputs": [
    {
     "name": "stdout",
     "output_type": "stream",
     "text": [
      "0 pastor\n",
      "1 model\n",
      "2 yoga_teacher\n",
      "3 teacher\n",
      "4 personal_trainer\n",
      "5 painter\n",
      "6 journalist\n",
      "7 interior_designer\n",
      "8 surgeon\n",
      "9 accountant\n",
      "10 dj\n",
      "11 physician\n",
      "12 comedian\n",
      "13 software_engineer\n",
      "14 nurse\n",
      "15 poet\n",
      "16 dentist\n",
      "17 chiropractor\n",
      "18 filmmaker\n",
      "19 professor\n",
      "20 photographer\n",
      "21 rapper\n",
      "22 psychologist\n",
      "23 paralegal\n",
      "24 architect\n",
      "25 composer\n",
      "26 attorney\n",
      "27 dietitian\n"
     ]
    }
   ],
   "source": [
    "for key in jobNames.keys():\n",
    "    print(key,jobNames[key])"
   ]
  },
  {
   "cell_type": "code",
   "execution_count": 3,
   "metadata": {},
   "outputs": [
    {
     "data": {
      "text/html": [
       "<div>\n",
       "<style scoped>\n",
       "    .dataframe tbody tr th:only-of-type {\n",
       "        vertical-align: middle;\n",
       "    }\n",
       "\n",
       "    .dataframe tbody tr th {\n",
       "        vertical-align: top;\n",
       "    }\n",
       "\n",
       "    .dataframe thead th {\n",
       "        text-align: right;\n",
       "    }\n",
       "</style>\n",
       "<table border=\"1\" class=\"dataframe\">\n",
       "  <thead>\n",
       "    <tr style=\"text-align: right;\">\n",
       "      <th></th>\n",
       "      <th>description</th>\n",
       "      <th>gender</th>\n",
       "      <th>Category</th>\n",
       "      <th>prof</th>\n",
       "    </tr>\n",
       "    <tr>\n",
       "      <th>Id</th>\n",
       "      <th></th>\n",
       "      <th></th>\n",
       "      <th></th>\n",
       "      <th></th>\n",
       "    </tr>\n",
       "  </thead>\n",
       "  <tbody>\n",
       "    <tr>\n",
       "      <th>0</th>\n",
       "      <td>She is also a Ronald D. Asmus Policy Entrepre...</td>\n",
       "      <td>F</td>\n",
       "      <td>19</td>\n",
       "      <td>1</td>\n",
       "    </tr>\n",
       "    <tr>\n",
       "      <th>1</th>\n",
       "      <td>He is a member of the AICPA and WICPA. Brent ...</td>\n",
       "      <td>M</td>\n",
       "      <td>9</td>\n",
       "      <td>0</td>\n",
       "    </tr>\n",
       "    <tr>\n",
       "      <th>2</th>\n",
       "      <td>Dr. Aster has held teaching and research posi...</td>\n",
       "      <td>M</td>\n",
       "      <td>19</td>\n",
       "      <td>1</td>\n",
       "    </tr>\n",
       "    <tr>\n",
       "      <th>3</th>\n",
       "      <td>He runs a boutique design studio attending cl...</td>\n",
       "      <td>M</td>\n",
       "      <td>24</td>\n",
       "      <td>0</td>\n",
       "    </tr>\n",
       "    <tr>\n",
       "      <th>4</th>\n",
       "      <td>He focuses on cloud security, identity and ac...</td>\n",
       "      <td>M</td>\n",
       "      <td>24</td>\n",
       "      <td>0</td>\n",
       "    </tr>\n",
       "  </tbody>\n",
       "</table>\n",
       "</div>"
      ],
      "text/plain": [
       "                                          description gender Category  prof\n",
       "Id                                                                         \n",
       "0    She is also a Ronald D. Asmus Policy Entrepre...      F       19     1\n",
       "1    He is a member of the AICPA and WICPA. Brent ...      M        9     0\n",
       "2    Dr. Aster has held teaching and research posi...      M       19     1\n",
       "3    He runs a boutique design studio attending cl...      M       24     0\n",
       "4    He focuses on cloud security, identity and ac...      M       24     0"
      ]
     },
     "execution_count": 3,
     "metadata": {},
     "output_type": "execute_result"
    }
   ],
   "source": [
    "df=trainDF.assign(prof=1*(trainDF.Category==19)).compute()\n",
    "Y=df.prof\n",
    "df.head()\n",
    "#X_train, X_test, y_train, y_test = train_test_split(df.description, Y)"
   ]
  },
  {
   "cell_type": "code",
   "execution_count": 10,
   "metadata": {},
   "outputs": [],
   "source": [
    "# When use pipeline class\n",
    "tfidf_vect=TfidfVectorizer(min_df=1000,ngram_range=(1, 3))\n",
    "clf=SGDClassifier(early_stopping=True,n_jobs=-1)\n",
    "pipeline = Pipeline([('vector',tfidf_vect),(\"clf\",clf)])"
   ]
  },
  {
   "cell_type": "code",
   "execution_count": null,
   "metadata": {},
   "outputs": [],
   "source": [
    "# fit\n",
    "pipeline.fit(df.description,Y)"
   ]
  },
  {
   "cell_type": "code",
   "execution_count": 6,
   "metadata": {},
   "outputs": [
    {
     "ename": "AttributeError",
     "evalue": "'SGDClassifier' object has no attribute 'feature_importances_'",
     "output_type": "error",
     "traceback": [
      "\u001b[0;31m---------------------------------------------------------------------------\u001b[0m",
      "\u001b[0;31mAttributeError\u001b[0m                            Traceback (most recent call last)",
      "\u001b[0;32m<ipython-input-6-a7a3831b1fed>\u001b[0m in \u001b[0;36m<module>\u001b[0;34m\u001b[0m\n\u001b[0;32m----> 1\u001b[0;31m \u001b[0mpipeline\u001b[0m\u001b[0;34m.\u001b[0m\u001b[0mnamed_steps\u001b[0m\u001b[0;34m[\u001b[0m\u001b[0;34m'clf'\u001b[0m\u001b[0;34m]\u001b[0m\u001b[0;34m.\u001b[0m\u001b[0mfeature_importances_\u001b[0m\u001b[0;34m\u001b[0m\u001b[0;34m\u001b[0m\u001b[0m\n\u001b[0m",
      "\u001b[0;31mAttributeError\u001b[0m: 'SGDClassifier' object has no attribute 'feature_importances_'"
     ]
    }
   ],
   "source": [
    "pipeline.named_steps['clf'].feature_importances_"
   ]
  },
  {
   "cell_type": "code",
   "execution_count": null,
   "metadata": {},
   "outputs": [],
   "source": [
    "cross_val_score(pipeline, df.description,Y,scoring=\"f1\", n_jobs=-1)"
   ]
  },
  {
   "cell_type": "code",
   "execution_count": 33,
   "metadata": {},
   "outputs": [],
   "source": [
    "import pandas as pd\n",
    "import numpy as np\n",
    "import matplotlib.pyplot as plt\n",
    "import seaborn as sns "
   ]
  },
  {
   "cell_type": "code",
   "execution_count": 10,
   "metadata": {},
   "outputs": [
    {
     "data": {
      "text/plain": [
       "7280"
      ]
     },
     "execution_count": 10,
     "metadata": {},
     "output_type": "execute_result"
    }
   ],
   "source": [
    "#[print(item) for item in tfidf_vect.get_feature_names()]\n",
    "len(tfidf_vect.get_feature_names())"
   ]
  },
  {
   "cell_type": "code",
   "execution_count": 45,
   "metadata": {},
   "outputs": [],
   "source": [
    "def plot_feature_importance(importance,names,model_type):\n",
    "\n",
    "    #Create arrays from feature importance and feature names\n",
    "    feature_importance = np.array(importance)\n",
    "    feature_names = np.array(names)\n",
    "\n",
    "    #Create a DataFrame using a Dictionary\n",
    "    data={'feature_names':feature_names,'feature_importance':feature_importance}\n",
    "    fi_df = pd.DataFrame(data)\n",
    "\n",
    "    #Sort the DataFrame in order decreasing feature importance\n",
    "    fi_df.sort_values(by=['feature_importance'], ascending=False,inplace=True)\n",
    "\n",
    "    #Define size of bar plot\n",
    "    plt.figure(figsize=(10,8))\n",
    "    #Plot Searborn bar chart\n",
    "    sns.barplot(x=fi_df['feature_importance'], y=fi_df['feature_names'])\n",
    "    #Add chart labels\n",
    "    plt.title(model_type + 'FEATURE IMPORTANCE')\n",
    "    plt.xlabel('FEATURE IMPORTANCE')\n",
    "    plt.ylabel('FEATURE NAMES')\n",
    "    return fi_df\n"
   ]
  },
  {
   "cell_type": "code",
   "execution_count": 46,
   "metadata": {},
   "outputs": [
    {
     "data": {
      "image/png": "[encoded data removed]",
      "text/plain": [
       "<Figure size 720x576 with 1 Axes>"
      ]
     },
     "metadata": {
      "needs_background": "light"
     },
     "output_type": "display_data"
    }
   ],
   "source": [
    "fi_df=plot_feature_importance(pipeline.named_steps['clf'].feature_importances_,tfidf_vect.get_feature_names(),'RANDOM FOREST')"
   ]
  },
  {
   "cell_type": "code",
   "execution_count": 47,
   "metadata": {},
   "outputs": [
    {
     "name": "stdout",
     "output_type": "stream",
     "text": [
      "   feature_names  feature_importance\n",
      "19           she            0.496433\n",
      "8            her            0.287241\n",
      "21           the            0.029886\n",
      "13            of            0.022336\n",
      "22            to            0.019412\n",
      "0            and            0.019076\n",
      "9             in            0.013456\n",
      "24          with            0.010669\n",
      "10            is            0.010531\n",
      "7            has            0.010428\n",
      "4            for            0.010005\n",
      "14            on            0.009272\n",
      "2           born            0.008466\n",
      "6        gallery            0.007931\n",
      "1             as            0.007177\n",
      "3      currently            0.006829\n",
      "23           was            0.006624\n",
      "18       section            0.004623\n",
      "16         place            0.003343\n",
      "12        listed            0.003149\n",
      "5       freeones            0.003013\n",
      "17        ranked            0.002972\n",
      "20         since            0.002697\n",
      "11         links            0.002598\n",
      "15           own            0.001831\n"
     ]
    }
   ],
   "source": [
    "print(fi_df)"
   ]
  }
 ],
 "metadata": {
  "kernelspec": {
   "display_name": "ProjetSD",
   "language": "python",
   "name": "projetsd"
  },
  "language_info": {
   "codemirror_mode": {
    "name": "ipython",
    "version": 3
   },
   "file_extension": ".py",
   "mimetype": "text/x-python",
   "name": "python",
   "nbconvert_exporter": "python",
   "pygments_lexer": "ipython3",
   "version": "3.7.9"
  }
 },
 "nbformat": 4,
 "nbformat_minor": 4
}
