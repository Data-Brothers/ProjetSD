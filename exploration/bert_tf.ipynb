{
  "nbformat": 4,
  "nbformat_minor": 0,
  "metadata": {
    "colab": {
      "name": "bert_tf.ipynb",
      "provenance": [],
      "collapsed_sections": []
    },
    "kernelspec": {
      "name": "python3",
      "display_name": "Python 3"
    },
    "accelerator": "GPU"
  },
  "cells": [
    {
      "cell_type": "code",
      "metadata": {
        "id": "um2f9grH9Pej"
      },
      "source": [
        "!pip install bert-for-tf2\n",
        "!pip install transformers\n",
        "!pip install sentencepiece"
      ],
      "execution_count": null,
      "outputs": []
    },
    {
      "cell_type": "code",
      "metadata": {
        "id": "TGlPCdzm99r1"
      },
      "source": [
        "import numpy as np\n",
        "import pandas as pd\n",
        "import os\n",
        "import math\n",
        "\n",
        "try:\n",
        "    %tensorflow_version 2.x\n",
        "except Exception:\n",
        "    pass\n",
        "import tensorflow as tf\n",
        "import tensorflow_hub as hub\n",
        "from tensorflow.keras import layers\n",
        "import transformers # Modèle Transformers sur lesquels reposent BERT+ variantess.\n",
        "from transformers import DistilBertModel, DistilBertTokenizer\n",
        "from sklearn.model_selection import train_test_split\n",
        "import bert\n",
        "import tensorflow_addons as tfa\n",
        "from sklearn.metrics import f1_score"
      ],
      "execution_count": 8,
      "outputs": []
    },
    {
      "cell_type": "code",
      "metadata": {
        "colab": {
          "base_uri": "https://localhost:8080/"
        },
        "id": "XyYvuj8O-S-z",
        "outputId": "f466b486-4fa5-48f6-f87e-de779d2f147e"
      },
      "source": [
        "from google.colab import drive\n",
        "drive.mount('/content/drive')"
      ],
      "execution_count": 2,
      "outputs": [
        {
          "output_type": "stream",
          "text": [
            "Mounted at /content/drive\n"
          ],
          "name": "stdout"
        }
      ]
    },
    {
      "cell_type": "code",
      "metadata": {
        "id": "eLSpD2IB-Wi1"
      },
      "source": [
        "path = '/content/drive/MyDrive/data_sd/'\n",
        "df_X = pd.read_json(path + 'train.json')\n",
        "df_label=pd.read_csv(path + 'train_label.csv')\n",
        "\n",
        "df=pd.merge(df_X, df_label).drop(['Id','gender'], axis = 1)\n",
        "df['Category'] = pd.Categorical(df['Category'])"
      ],
      "execution_count": 9,
      "outputs": []
    },
    {
      "cell_type": "code",
      "metadata": {
        "id": "BC-9wezZq77k"
      },
      "source": [
        "def load_bert_tokenizer(path, trainable = False):\n",
        "  \"\"\"\n",
        "  Charge un tokenizer bert du package hub de tensorflow\n",
        "  \"\"\"\n",
        "  BertTokenizer = bert.bert_tokenization.FullTokenizer\n",
        "  bert_layer = hub.KerasLayer(path, trainable=trainable)\n",
        "  vocabulary_file = bert_layer.resolved_object.vocab_file.asset_path.numpy()\n",
        "  to_lower_case = bert_layer.resolved_object.do_lower_case.numpy()\n",
        "  return BertTokenizer(vocabulary_file, to_lower_case)\n",
        "\n",
        "def tokenize_description(text):\n",
        "  \"\"\"\n",
        "  représentation de text avec le tokenizer\n",
        "  \"\"\"\n",
        "    return tokenizer.convert_tokens_to_ids(tokenizer.tokenize(text)) \n",
        "\n",
        "\n",
        "def data_to_tf(X, Y = None, BATCH_SIZE = 32):\n",
        "  \"\"\"\n",
        "  prépare les données pour le passer dans un modèle tensorflow\n",
        "  X : data frame pandas des variables prédictive\n",
        "  Y : si None, data_to_tf renvoie un jeu de donnée à prédire\n",
        "      sinon un jeu de donnée d'entrainement\n",
        "  \"\"\"\n",
        "  X = [tokenize_description(description) for description in X]\n",
        "  if Y is None:\n",
        "    data = [(a, 0) for a in X]\n",
        "  else:\n",
        "    data = [(a, b) for a,b in zip(X, Y)]\n",
        " \n",
        "  processed_dataset = tf.data.Dataset.from_generator(lambda: data, output_types=(tf.int32, tf.int32)) \n",
        "  batched_dataset = processed_dataset.padded_batch(BATCH_SIZE, padded_shapes=((None, ), ()))\n",
        "  return batched_dataset\n"
      ],
      "execution_count": 16,
      "outputs": []
    },
    {
      "cell_type": "code",
      "metadata": {
        "id": "BXQ_cjtuuXNR"
      },
      "source": [
        "tokenizer = load_bert_tokenizer(\"https://tfhub.dev/tensorflow/bert_en_uncased_L-12_H-768_A-12/3\")"
      ],
      "execution_count": null,
      "outputs": []
    },
    {
      "cell_type": "code",
      "metadata": {
        "id": "ZdNukOYfs1fv"
      },
      "source": [
        "trainset, validset=train_test_split(df,shuffle=True,train_size=0.8)\n",
        "trainset_tf =  data_to_tf(trainset['description'], trainset['Category'])"
      ],
      "execution_count": 28,
      "outputs": []
    },
    {
      "cell_type": "code",
      "metadata": {
        "id": "auWlN5oQ_WfI"
      },
      "source": [
        "# là c'est du copier coller pure\n",
        "class TEXT_MODEL(tf.keras.Model):\n",
        "    \n",
        "    def __init__(self,\n",
        "                 vocabulary_size,\n",
        "                 embedding_dimensions=128,\n",
        "                 cnn_filters=50,\n",
        "                 dnn_units=512,\n",
        "                 model_output_classes=2,\n",
        "                 dropout_rate=0.1,\n",
        "                 training=False,\n",
        "                 name=\"text_model\"):\n",
        "        super(TEXT_MODEL, self).__init__(name=name)\n",
        "        \n",
        "        self.embedding = layers.Embedding(vocabulary_size,\n",
        "                                          embedding_dimensions)\n",
        "        self.cnn_layer1 = layers.Conv1D(filters=cnn_filters,\n",
        "                                        kernel_size=2,\n",
        "                                        padding=\"valid\",\n",
        "                                        activation=\"relu\")\n",
        "        self.cnn_layer2 = layers.Conv1D(filters=cnn_filters,\n",
        "                                        kernel_size=3,\n",
        "                                        padding=\"valid\",\n",
        "                                        activation=\"relu\")\n",
        "        self.cnn_layer3 = layers.Conv1D(filters=cnn_filters,\n",
        "                                        kernel_size=4,\n",
        "                                        padding=\"valid\",\n",
        "                                        activation=\"relu\")\n",
        "        self.pool = layers.GlobalMaxPool1D()\n",
        "        \n",
        "        self.dense_1 = layers.Dense(units=dnn_units, activation=\"relu\")\n",
        "        self.dropout = layers.Dropout(rate=dropout_rate)\n",
        "        if model_output_classes == 2:\n",
        "            self.last_dense = layers.Dense(units=1,\n",
        "                                           activation=\"sigmoid\")\n",
        "        else:\n",
        "            self.last_dense = layers.Dense(units=model_output_classes,\n",
        "                                           activation=\"softmax\")\n",
        "\n",
        "    def call(self, inputs, training):\n",
        "        l = self.embedding(inputs)\n",
        "        l_1 = self.cnn_layer1(l) \n",
        "        l_1 = self.pool(l_1) \n",
        "        l_2 = self.cnn_layer2(l) \n",
        "        l_2 = self.pool(l_2)\n",
        "        l_3 = self.cnn_layer3(l)\n",
        "        l_3 = self.pool(l_3) \n",
        "        \n",
        "        concatenated = tf.concat([l_1, l_2, l_3], axis=-1) # (batch_size, 3 * cnn_filters)\n",
        "        concatenated = self.dense_1(concatenated)\n",
        "        concatenated = self.dropout(concatenated, training)\n",
        "        model_output = self.last_dense(concatenated)\n",
        "        \n",
        "        return model_output"
      ],
      "execution_count": 29,
      "outputs": []
    },
    {
      "cell_type": "code",
      "metadata": {
        "id": "77tyFWXo_Z58"
      },
      "source": [
        "VOCAB_LENGTH = len(tokenizer.vocab)\n",
        "OUTPUT_CLASSES = 28\n",
        "\n",
        "# Hyperparametre modifiable\n",
        "EMB_DIM = 200\n",
        "CNN_FILTERS = 100\n",
        "DNN_UNITS = 256\n",
        "DROPOUT_RATE = 0.2\n",
        "NB_EPOCHS = 2"
      ],
      "execution_count": 30,
      "outputs": []
    },
    {
      "cell_type": "code",
      "metadata": {
        "id": "xOOSomo__ddF"
      },
      "source": [
        "text_model = TEXT_MODEL(vocabulary_size=VOCAB_LENGTH,\n",
        "                        embedding_dimensions=EMB_DIM,\n",
        "                        cnn_filters=CNN_FILTERS,\n",
        "                        dnn_units=DNN_UNITS,\n",
        "                        model_output_classes=OUTPUT_CLASSES,\n",
        "                        dropout_rate=DROPOUT_RATE)"
      ],
      "execution_count": 31,
      "outputs": []
    },
    {
      "cell_type": "code",
      "metadata": {
        "id": "MlZryIsN_ftQ"
      },
      "source": [
        "if OUTPUT_CLASSES == 2:\n",
        "    text_model.compile(loss=\"binary_crossentropy\",\n",
        "                       optimizer=\"adam\",\n",
        "                       metrics=[\"accuracy\"])\n",
        "else:\n",
        "    text_model.compile(loss=\"sparse_categorical_crossentropy\",\n",
        "                       optimizer=\"adam\",\n",
        "                       metrics=[\"sparse_categorical_accuracy\"])"
      ],
      "execution_count": 32,
      "outputs": []
    },
    {
      "cell_type": "code",
      "metadata": {
        "colab": {
          "base_uri": "https://localhost:8080/"
        },
        "id": "j5zaAJFVDqu9",
        "outputId": "394c5a8d-42b5-4f33-d239-014e77b88821"
      },
      "source": [
        "text_model.fit(trainset_tf, epochs=NB_EPOCHS)"
      ],
      "execution_count": null,
      "outputs": [
        {
          "output_type": "stream",
          "text": [
            "Epoch 1/2\n",
            "   2536/Unknown - 169s 67ms/step - loss: 0.9853 - sparse_categorical_accuracy: 0.7205"
          ],
          "name": "stdout"
        }
      ]
    },
    {
      "cell_type": "code",
      "metadata": {
        "id": "1A2uaYIPUEjU"
      },
      "source": [
        " validset_tf = data_to_tf(validset['description'])"
      ],
      "execution_count": 24,
      "outputs": []
    },
    {
      "cell_type": "code",
      "metadata": {
        "id": "y7kYkCdwa74u"
      },
      "source": [
        "res = text_model.predict(validset_tf)\n",
        "res1 = [i.argmax() for i in res]"
      ],
      "execution_count": 25,
      "outputs": []
    },
    {
      "cell_type": "code",
      "metadata": {
        "colab": {
          "base_uri": "https://localhost:8080/",
          "height": 163
        },
        "id": "KssueHoHcGUb",
        "outputId": "7a11dc8b-fb50-439d-9984-04b7985f5725"
      },
      "source": [
        "f1_score(res1,validset['Category'],average='macro')"
      ],
      "execution_count": 27,
      "outputs": [
        {
          "output_type": "error",
          "ename": "TypeError",
          "evalue": "ignored",
          "traceback": [
            "\u001b[0;31m---------------------------------------------------------------------------\u001b[0m",
            "\u001b[0;31mTypeError\u001b[0m                                 Traceback (most recent call last)",
            "\u001b[0;32m<ipython-input-27-4cc1f35095a2>\u001b[0m in \u001b[0;36m<module>\u001b[0;34m()\u001b[0m\n\u001b[0;32m----> 1\u001b[0;31m \u001b[0mf1_score\u001b[0m\u001b[0;34m(\u001b[0m\u001b[0mres1\u001b[0m\u001b[0;34m,\u001b[0m\u001b[0mvalidset\u001b[0m\u001b[0;34m[\u001b[0m\u001b[0;34m'Category'\u001b[0m\u001b[0;34m]\u001b[0m\u001b[0;34m,\u001b[0m\u001b[0maverage\u001b[0m\u001b[0;34m=\u001b[0m\u001b[0;34m'macro'\u001b[0m\u001b[0;34m)\u001b[0m\u001b[0;34m\u001b[0m\u001b[0;34m\u001b[0m\u001b[0m\n\u001b[0m",
            "\u001b[0;31mTypeError\u001b[0m: 'PaddedBatchDataset' object is not subscriptable"
          ]
        }
      ]
    }
  ]
}