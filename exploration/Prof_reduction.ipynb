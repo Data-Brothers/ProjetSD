{
 "cells": [
  {
   "cell_type": "code",
   "execution_count": 15,
   "metadata": {},
   "outputs": [],
   "source": [
    "\n",
    "from txt_prep import prepareTxt\n",
    "\n",
    "\n",
    "from sklearn.feature_extraction.text import TfidfVectorizer,CountVectorizer\n",
    "from sklearn.linear_model import SGDClassifier\n",
    "from sklearn.preprocessing import LabelEncoder\n",
    "from sklearn.model_selection import GridSearchCV\n",
    "from sklearn.model_selection import cross_val_score \n",
    "from sklearn.ensemble import RandomForestClassifier\n",
    "from sklearn.pipeline import Pipeline\n",
    "import dask.array as da\n",
    "import dask.dataframe as dd\n",
    "import pandas as pd\n",
    "import numpy as np\n",
    "import os\n",
    "dirname='../data'"
   ]
  },
  {
   "cell_type": "code",
   "execution_count": 16,
   "metadata": {},
   "outputs": [],
   "source": [
    "# Importation des `noms de métiers`\n",
    "# Création du dico des `noms de métiers`\n",
    "jobNames = pd.read_csv(os.path.join(dirname,'categories_string.csv'))['0'].to_dict()\n",
    "\n",
    "# Importation du jeu de données d'entrainement\n",
    "trainX=dd.read_json(os.path.join(dirname,'train.json'),lines=False).set_index('Id',n_partitions=10).categorize(columns=['gender'])\n",
    "\n",
    "trainTarget=dd.read_csv(os.path.join(dirname, 'train_label.csv')).set_index('Id').categorize(columns=['Category'])\n",
    "\n",
    "# Concatenation en un seul DataFrame pour visualiser\n",
    "trainDF= trainX.assign(Category = trainTarget.Category)\n",
    "\n",
    "trainDF['description']=trainDF.apply(lambda x:prepareTxt(x['description']),axis=1,meta=(None, 'object'))"
   ]
  },
  {
   "cell_type": "code",
   "execution_count": 3,
   "metadata": {},
   "outputs": [
    {
     "name": "stdout",
     "output_type": "stream",
     "text": [
      "0 pastor\n",
      "1 model\n",
      "2 yoga_teacher\n",
      "3 teacher\n",
      "4 personal_trainer\n",
      "5 painter\n",
      "6 journalist\n",
      "7 interior_designer\n",
      "8 surgeon\n",
      "9 accountant\n",
      "10 dj\n",
      "11 physician\n",
      "12 comedian\n",
      "13 software_engineer\n",
      "14 nurse\n",
      "15 poet\n",
      "16 dentist\n",
      "17 chiropractor\n",
      "18 filmmaker\n",
      "19 professor\n",
      "20 photographer\n",
      "21 rapper\n",
      "22 psychologist\n",
      "23 paralegal\n",
      "24 architect\n",
      "25 composer\n",
      "26 attorney\n",
      "27 dietitian\n"
     ]
    }
   ],
   "source": [
    "for key in jobNames.keys():\n",
    "    print(key,jobNames[key])"
   ]
  },
  {
   "cell_type": "code",
   "execution_count": 20,
   "metadata": {},
   "outputs": [
    {
     "data": {
      "text/html": [
       "<div>\n",
       "<style scoped>\n",
       "    .dataframe tbody tr th:only-of-type {\n",
       "        vertical-align: middle;\n",
       "    }\n",
       "\n",
       "    .dataframe tbody tr th {\n",
       "        vertical-align: top;\n",
       "    }\n",
       "\n",
       "    .dataframe thead th {\n",
       "        text-align: right;\n",
       "    }\n",
       "</style>\n",
       "<table border=\"1\" class=\"dataframe\">\n",
       "  <thead>\n",
       "    <tr style=\"text-align: right;\">\n",
       "      <th></th>\n",
       "      <th>description</th>\n",
       "      <th>gender</th>\n",
       "      <th>Category</th>\n",
       "      <th>prof</th>\n",
       "    </tr>\n",
       "    <tr>\n",
       "      <th>Id</th>\n",
       "      <th></th>\n",
       "      <th></th>\n",
       "      <th></th>\n",
       "      <th></th>\n",
       "    </tr>\n",
       "  </thead>\n",
       "  <tbody>\n",
       "    <tr>\n",
       "      <th>0</th>\n",
       "      <td>also ronald asmus policy entrepreneur fellow g...</td>\n",
       "      <td>F</td>\n",
       "      <td>19</td>\n",
       "      <td>1</td>\n",
       "    </tr>\n",
       "    <tr>\n",
       "      <th>1</th>\n",
       "      <td>member aicpa wicpa brent graduated university ...</td>\n",
       "      <td>M</td>\n",
       "      <td>9</td>\n",
       "      <td>0</td>\n",
       "    </tr>\n",
       "    <tr>\n",
       "      <th>2</th>\n",
       "      <td>dr aster ld teaching research position ben gur...</td>\n",
       "      <td>M</td>\n",
       "      <td>19</td>\n",
       "      <td>1</td>\n",
       "    </tr>\n",
       "    <tr>\n",
       "      <th>3</th>\n",
       "      <td>run boutique design studio attending client un...</td>\n",
       "      <td>M</td>\n",
       "      <td>24</td>\n",
       "      <td>0</td>\n",
       "    </tr>\n",
       "    <tr>\n",
       "      <th>4</th>\n",
       "      <td>focus cloud security identity access managemen...</td>\n",
       "      <td>M</td>\n",
       "      <td>24</td>\n",
       "      <td>0</td>\n",
       "    </tr>\n",
       "  </tbody>\n",
       "</table>\n",
       "</div>"
      ],
      "text/plain": [
       "                                          description gender Category  prof\n",
       "Id                                                                         \n",
       "0   also ronald asmus policy entrepreneur fellow g...      F       19     1\n",
       "1   member aicpa wicpa brent graduated university ...      M        9     0\n",
       "2   dr aster ld teaching research position ben gur...      M       19     1\n",
       "3   run boutique design studio attending client un...      M       24     0\n",
       "4   focus cloud security identity access managemen...      M       24     0"
      ]
     },
     "execution_count": 20,
     "metadata": {},
     "output_type": "execute_result"
    }
   ],
   "source": [
    "df=trainDF.assign(prof=1*(trainDF.Category==19)).compute()\n",
    "Y=df.prof\n",
    "df.head()\n",
    "#X_train, X_test, y_train, y_test = train_test_split(df.description, Y)"
   ]
  },
  {
   "cell_type": "code",
   "execution_count": 21,
   "metadata": {},
   "outputs": [],
   "source": [
    "# When use pipeline class\n",
    "tfidf_vect=TfidfVectorizer(min_df=1000,ngram_range=(1, 2))\n",
    "clf=SGDClassifier(early_stopping=True,n_jobs=-1)\n",
    "pipeline = Pipeline([('vector',tfidf_vect),(\"clf\",clf)])"
   ]
  },
  {
   "cell_type": "code",
   "execution_count": 22,
   "metadata": {},
   "outputs": [
    {
     "data": {
      "text/plain": [
       "Pipeline(steps=[('vector', TfidfVectorizer(min_df=1000, ngram_range=(1, 2))),\n",
       "                ('clf', SGDClassifier(early_stopping=True, n_jobs=-1))])"
      ]
     },
     "execution_count": 22,
     "metadata": {},
     "output_type": "execute_result"
    }
   ],
   "source": [
    "# fit\n",
    "pipeline.fit(df.description,Y)"
   ]
  },
  {
   "cell_type": "code",
   "execution_count": null,
   "metadata": {},
   "outputs": [],
   "source": [
    "cross_val_score(pipeline, df.description,Y,scoring=\"f1\", n_jobs=-1)"
   ]
  },
  {
   "cell_type": "code",
   "execution_count": 33,
   "metadata": {},
   "outputs": [],
   "source": [
    "import pandas as pd\n",
    "import numpy as np\n",
    "import matplotlib.pyplot as plt\n",
    "import seaborn as sns "
   ]
  },
  {
   "cell_type": "code",
   "execution_count": 23,
   "metadata": {},
   "outputs": [
    {
     "data": {
      "text/plain": [
       "1502"
      ]
     },
     "execution_count": 23,
     "metadata": {},
     "output_type": "execute_result"
    }
   ],
   "source": [
    "#[print(item) for item in tfidf_vect.get_feature_names()]\n",
    "len(tfidf_vect.get_feature_names())"
   ]
  }
 ],
 "metadata": {
  "kernelspec": {
   "display_name": "ProjetSD",
   "language": "python",
   "name": "projetsd"
  },
  "language_info": {
   "codemirror_mode": {
    "name": "ipython",
    "version": 3
   },
   "file_extension": ".py",
   "mimetype": "text/x-python",
   "name": "python",
   "nbconvert_exporter": "python",
   "pygments_lexer": "ipython3",
   "version": "3.7.9"
  }
 },
 "nbformat": 4,
 "nbformat_minor": 4
}
