{
 "cells": [
  {
   "cell_type": "code",
   "execution_count": 3,
   "metadata": {},
   "outputs": [],
   "source": [
    "import pandas as pd\n",
    "import dask.dataframe as dd\n",
    "import dask.array as da\n",
    "from dask_ml.model_selection import train_test_split"
   ]
  },
  {
   "cell_type": "code",
   "execution_count": 5,
   "metadata": {},
   "outputs": [],
   "source": [
    "# Importation des `noms de métiers`\n",
    "# Création du dico des `noms de métiers`\n",
    "jobNames = pd.read_csv('./data/categories_string.csv')['0'].to_dict()\n",
    "\n",
    "\n",
    "# Importation du jeu de données d'entrainement\n",
    "\n",
    "trainX=dd.from_pandas(pd.read_json('./data/train.json',dtype={'description':'string','gender':'string'})\n",
    "         .set_index('Id'), npartitions=11)\n",
    "\n",
    "trainY=dd.read_csv('./data/train_label.csv')\n",
    "         .set_index('Id')\n",
    "\n",
    "# Concatenation en un seul DataFrame pour visualiser\n",
    "trainDF= trainX.assign(Y = trainY.Category).categorize(columns=['gender'])"
   ]
  },
  {
   "cell_type": "code",
   "execution_count": null,
   "metadata": {},
   "outputs": [],
   "source": [
    "print(jobNames)"
   ]
  },
  {
   "cell_type": "code",
   "execution_count": null,
   "metadata": {},
   "outputs": [],
   "source": [
    "trainDF.head()"
   ]
  },
  {
   "cell_type": "code",
   "execution_count": null,
   "metadata": {},
   "outputs": [],
   "source": [
    "def macro_disparate_impact(DF):\n",
    "    \"\"\"Fonction Dask de calcul de la Fairness (disparate_impact)\"\"\"\n",
    "    # \"Jointure\" sur les noms de métiers\n",
    "    jobs=DF.Y.apply(lambda x :jobNames[x],meta=('Y', 'int'))\n",
    "    \n",
    "    # Concatenation métier | genre\n",
    "    people=dd.concat([jobs,DF.gender], axis=1).reset_index()\n",
    "    \n",
    "    # Création de la table de comptage par genre\n",
    "    counts = people.pivot_table(index='Y',columns='gender',aggfunc='count')\n",
    "    \n",
    "    # Calcul de l'indicateur\n",
    "    # Paramètre axis=1 <== 'max/min par ligne'\n",
    "    disparate_impact= (counts.max(axis=1)/counts.min(axis=1)).mean()\n",
    "    \n",
    "    return disparate_impact"
   ]
  },
  {
   "cell_type": "code",
   "execution_count": null,
   "metadata": {},
   "outputs": [],
   "source": [
    "macro_disparate_impact(trainDF).compute()"
   ]
  },
  {
   "cell_type": "code",
   "execution_count": null,
   "metadata": {},
   "outputs": [],
   "source": [
    "from sklearn.feature_extraction.text import TfidfVectorizer\n",
    "from dask_ml.feature_extraction.text import HashingVectorizer"
   ]
  },
  {
   "cell_type": "code",
   "execution_count": null,
   "metadata": {},
   "outputs": [],
   "source": [
    "trainDF['description']=trainDF.apply(lambda x:x['description'].lower(),axis=1,meta=(None, 'object'))"
   ]
  },
  {
   "cell_type": "code",
   "execution_count": null,
   "metadata": {},
   "outputs": [],
   "source": [
    "trainDF1.head()"
   ]
  },
  {
   "cell_type": "code",
   "execution_count": null,
   "metadata": {},
   "outputs": [],
   "source": [
    "trainSet,validSet=train_test_split(trainDF,shuffle=True,test_size=0.3)"
   ]
  },
  {
   "cell_type": "code",
   "execution_count": null,
   "metadata": {},
   "outputs": [],
   "source": [
    "\n",
    "\n",
    "transformer = TfidfVectorizer().fit(train_df[\"description_lower\"].values)\n",
    "\n",
    "print(\"NB features: %d\" %(len(transformer.vocabulary_)))\n",
    "\n",
    "X_train = transformer.transform(train_df[\"description_lower\"].values)\n",
    "\n",
    "X_test = transformer.transform(test_df[\"description_lower\"].values)\n",
    "\n",
    "X_train"
   ]
  }
 ],
 "metadata": {
  "kernelspec": {
   "display_name": "ProjetSD",
   "language": "python",
   "name": "projetsd"
  },
  "language_info": {
   "codemirror_mode": {
    "name": "ipython",
    "version": 3
   },
   "file_extension": ".py",
   "mimetype": "text/x-python",
   "name": "python",
   "nbconvert_exporter": "python",
   "pygments_lexer": "ipython3",
   "version": "3.7.9"
  }
 },
 "nbformat": 4,
 "nbformat_minor": 4
}
